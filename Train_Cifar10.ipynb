{
  "nbformat": 4,
  "nbformat_minor": 0,
  "metadata": {
    "colab": {
      "name": "Untitled71.ipynb",
      "provenance": [],
      "collapsed_sections": [],
      "authorship_tag": "ABX9TyPolK4jzo/jUXgH6Fz2ARgx",
      "include_colab_link": true
    },
    "kernelspec": {
      "name": "python3",
      "display_name": "Python 3"
    },
    "accelerator": "GPU"
  },
  "cells": [
    {
      "cell_type": "markdown",
      "metadata": {
        "id": "view-in-github",
        "colab_type": "text"
      },
      "source": [
        "<a href=\"https://colab.research.google.com/github/soumik12345/Vision-Transformer/blob/update/Train_Cifar10.ipynb\" target=\"_parent\"><img src=\"https://colab.research.google.com/assets/colab-badge.svg\" alt=\"Open In Colab\"/></a>"
      ]
    },
    {
      "cell_type": "code",
      "metadata": {
        "colab": {
          "base_uri": "https://localhost:8080/"
        },
        "id": "Pk3YMV2jWQTu",
        "outputId": "50ad5de8-36d9-4cac-ed54-7dd92a4f0468"
      },
      "source": [
        "!nvidia-smi"
      ],
      "execution_count": 1,
      "outputs": [
        {
          "output_type": "stream",
          "text": [
            "Fri Jan 29 18:19:46 2021       \n",
            "+-----------------------------------------------------------------------------+\n",
            "| NVIDIA-SMI 460.32.03    Driver Version: 418.67       CUDA Version: 10.1     |\n",
            "|-------------------------------+----------------------+----------------------+\n",
            "| GPU  Name        Persistence-M| Bus-Id        Disp.A | Volatile Uncorr. ECC |\n",
            "| Fan  Temp  Perf  Pwr:Usage/Cap|         Memory-Usage | GPU-Util  Compute M. |\n",
            "|                               |                      |               MIG M. |\n",
            "|===============================+======================+======================|\n",
            "|   0  Tesla T4            Off  | 00000000:00:04.0 Off |                    0 |\n",
            "| N/A   35C    P8     9W /  70W |      0MiB / 15079MiB |      0%      Default |\n",
            "|                               |                      |                 ERR! |\n",
            "+-------------------------------+----------------------+----------------------+\n",
            "                                                                               \n",
            "+-----------------------------------------------------------------------------+\n",
            "| Processes:                                                                  |\n",
            "|  GPU   GI   CI        PID   Type   Process name                  GPU Memory |\n",
            "|        ID   ID                                                   Usage      |\n",
            "|=============================================================================|\n",
            "|  No running processes found                                                 |\n",
            "+-----------------------------------------------------------------------------+\n"
          ],
          "name": "stdout"
        }
      ]
    },
    {
      "cell_type": "code",
      "metadata": {
        "id": "RYIbSZpL_wrG",
        "colab": {
          "base_uri": "https://localhost:8080/"
        },
        "outputId": "d4a1e869-920d-4ddf-c496-b6f926bd110d"
      },
      "source": [
        "!git clone -b update https://github.com/soumik12345/Vision-Transformer\n",
        "%cd Vision-Transformer\n",
        "!pip install -U tensorflow-addons"
      ],
      "execution_count": 2,
      "outputs": [
        {
          "output_type": "stream",
          "text": [
            "Cloning into 'Vision-Transformer'...\n",
            "remote: Enumerating objects: 109, done.\u001b[K\n",
            "remote: Counting objects: 100% (109/109), done.\u001b[K\n",
            "remote: Compressing objects: 100% (82/82), done.\u001b[K\n",
            "remote: Total 109 (delta 40), reused 88 (delta 19), pack-reused 0\u001b[K\n",
            "Receiving objects: 100% (109/109), 325.64 KiB | 29.60 MiB/s, done.\n",
            "Resolving deltas: 100% (40/40), done.\n",
            "/content/Vision-Transformer\n",
            "Collecting tensorflow-addons\n",
            "\u001b[?25l  Downloading https://files.pythonhosted.org/packages/d6/98/8e97194e774f35a1319668e12571d5fa19f323e0ccae9d9890258aab1fcc/tensorflow_addons-0.12.0-cp36-cp36m-manylinux2010_x86_64.whl (703kB)\n",
            "\u001b[K     |████████████████████████████████| 706kB 15.7MB/s \n",
            "\u001b[?25hRequirement already satisfied, skipping upgrade: typeguard>=2.7 in /usr/local/lib/python3.6/dist-packages (from tensorflow-addons) (2.7.1)\n",
            "Installing collected packages: tensorflow-addons\n",
            "  Found existing installation: tensorflow-addons 0.8.3\n",
            "    Uninstalling tensorflow-addons-0.8.3:\n",
            "      Successfully uninstalled tensorflow-addons-0.8.3\n",
            "Successfully installed tensorflow-addons-0.12.0\n"
          ],
          "name": "stdout"
        }
      ]
    },
    {
      "cell_type": "code",
      "metadata": {
        "id": "y8Gr0V84VxSS"
      },
      "source": [
        "from vision_transformer import Trainer"
      ],
      "execution_count": 3,
      "outputs": []
    },
    {
      "cell_type": "code",
      "metadata": {
        "colab": {
          "base_uri": "https://localhost:8080/"
        },
        "id": "2qsW7bA_V2n-",
        "outputId": "7a1eeba2-a801-4f05-d9ad-1fa91a37b41a"
      },
      "source": [
        "trainer = Trainer()\n",
        "trainer.build_dataset(\n",
        "    dataset_name='cifar100', buffer_size=1024, batch_size=16\n",
        ")"
      ],
      "execution_count": 4,
      "outputs": [
        {
          "output_type": "stream",
          "text": [
            "\u001b[1mDownloading and preparing dataset cifar100/3.0.2 (download: 160.71 MiB, generated: 132.03 MiB, total: 292.74 MiB) to /root/tensorflow_datasets/cifar100/3.0.2...\u001b[0m\n",
            "Shuffling and writing examples to /root/tensorflow_datasets/cifar100/3.0.2.incompleteOFD99N/cifar100-train.tfrecord\n",
            "Shuffling and writing examples to /root/tensorflow_datasets/cifar100/3.0.2.incompleteOFD99N/cifar100-test.tfrecord\n",
            "\u001b[1mDataset cifar100 downloaded and prepared to /root/tensorflow_datasets/cifar100/3.0.2. Subsequent calls will reuse this data.\u001b[0m\n"
          ],
          "name": "stdout"
        }
      ]
    },
    {
      "cell_type": "code",
      "metadata": {
        "id": "Huxi7PpzV5gE"
      },
      "source": [
        "trainer.build_model(\n",
        "    input_shape=[32, 32, 3], image_size=72, rotate_factor=0.2, zoom_factor=0.2,\n",
        "    patch_size=6, n_transformer_blocks=8, num_heads=4, projection_dimension=64,\n",
        "    epsilon=1e-6, attention_dropout=0.1, mlp_dropout=0.1, hidden_units=[2048, 1024],\n",
        "    n_classes=100, representation_dropout_rate=0.5\n",
        ")"
      ],
      "execution_count": 5,
      "outputs": []
    },
    {
      "cell_type": "code",
      "metadata": {
        "colab": {
          "base_uri": "https://localhost:8080/"
        },
        "id": "yR7kTub5WjJG",
        "outputId": "dc9337ba-012a-48e2-8d26-3848674153fe"
      },
      "source": [
        "trainer.summarize()"
      ],
      "execution_count": 6,
      "outputs": [
        {
          "output_type": "stream",
          "text": [
            "Model: \"model\"\n",
            "_________________________________________________________________\n",
            "Layer (type)                 Output Shape              Param #   \n",
            "=================================================================\n",
            "Input_Tensor (InputLayer)    [(None, 32, 32, 3)]       0         \n",
            "_________________________________________________________________\n",
            "Data_Augmentation (Sequentia (None, 72, 72, 3)         7         \n",
            "_________________________________________________________________\n",
            "patch_maker (PatchMaker)     (None, None, 108)         0         \n",
            "_________________________________________________________________\n",
            "patch_embedding (PatchEmbedd (None, 144, 64)           16192     \n",
            "_________________________________________________________________\n",
            "transformer_encoder (Transfo (None, 144, 64)           83200     \n",
            "_________________________________________________________________\n",
            "transformer_encoder_1 (Trans (None, 144, 64)           83200     \n",
            "_________________________________________________________________\n",
            "transformer_encoder_2 (Trans (None, 144, 64)           83200     \n",
            "_________________________________________________________________\n",
            "transformer_encoder_3 (Trans (None, 144, 64)           83200     \n",
            "_________________________________________________________________\n",
            "transformer_encoder_4 (Trans (None, 144, 64)           83200     \n",
            "_________________________________________________________________\n",
            "transformer_encoder_5 (Trans (None, 144, 64)           83200     \n",
            "_________________________________________________________________\n",
            "transformer_encoder_6 (Trans (None, 144, 64)           83200     \n",
            "_________________________________________________________________\n",
            "transformer_encoder_7 (Trans (None, 144, 64)           83200     \n",
            "_________________________________________________________________\n",
            "layer_normalization_16 (Laye (None, 144, 64)           128       \n",
            "_________________________________________________________________\n",
            "flatten (Flatten)            (None, 9216)              0         \n",
            "_________________________________________________________________\n",
            "dropout_16 (Dropout)         (None, 9216)              0         \n",
            "_________________________________________________________________\n",
            "mlp_block_8 (MLPBlock)       (None, 1024)              20974592  \n",
            "_________________________________________________________________\n",
            "dense_19 (Dense)             (None, 100)               102500    \n",
            "=================================================================\n",
            "Total params: 21,759,019\n",
            "Trainable params: 21,759,012\n",
            "Non-trainable params: 7\n",
            "_________________________________________________________________\n"
          ],
          "name": "stdout"
        }
      ]
    },
    {
      "cell_type": "code",
      "metadata": {
        "colab": {
          "base_uri": "https://localhost:8080/"
        },
        "id": "HuHYf-UOWl6V",
        "outputId": "bf6ffcdf-5eda-45af-b965-b5edbea8bdf8"
      },
      "source": [
        "trainer.compile(learning_rate=1e-3, weight_decay=1e-3)\n",
        "trainer.train(epochs=100, checkpoint_dir='./checkpoints/')"
      ],
      "execution_count": null,
      "outputs": [
        {
          "output_type": "stream",
          "text": [
            "WARNING:tensorflow:Model failed to serialize as JSON. Ignoring... Layer PatchMaker has arguments in `__init__` and therefore must override `get_config`.\n"
          ],
          "name": "stdout"
        },
        {
          "output_type": "stream",
          "text": [
            "WARNING:tensorflow:Model failed to serialize as JSON. Ignoring... Layer PatchMaker has arguments in `__init__` and therefore must override `get_config`.\n"
          ],
          "name": "stderr"
        },
        {
          "output_type": "stream",
          "text": [
            "Epoch 1/100\n",
            "3125/3125 [==============================] - 184s 56ms/step - loss: 4.7364 - accuracy: 0.0327 - top-5-accuracy: 0.1379 - val_loss: 3.8726 - val_accuracy: 0.0988 - val_top-5-accuracy: 0.3089\n",
            "Epoch 2/100\n",
            "3125/3125 [==============================] - 165s 53ms/step - loss: 3.9076 - accuracy: 0.0897 - top-5-accuracy: 0.2944 - val_loss: 3.7562 - val_accuracy: 0.1177 - val_top-5-accuracy: 0.3487\n",
            "Epoch 3/100\n",
            "3125/3125 [==============================] - 164s 53ms/step - loss: 3.8495 - accuracy: 0.1008 - top-5-accuracy: 0.3137 - val_loss: 3.7715 - val_accuracy: 0.1129 - val_top-5-accuracy: 0.3498\n",
            "Epoch 4/100\n",
            "3125/3125 [==============================] - 163s 52ms/step - loss: 3.8553 - accuracy: 0.0985 - top-5-accuracy: 0.3127 - val_loss: 3.7516 - val_accuracy: 0.1194 - val_top-5-accuracy: 0.3512\n",
            "Epoch 5/100\n",
            "3125/3125 [==============================] - 162s 52ms/step - loss: 3.8350 - accuracy: 0.1033 - top-5-accuracy: 0.3201 - val_loss: 3.7162 - val_accuracy: 0.1210 - val_top-5-accuracy: 0.3560\n",
            "Epoch 6/100\n",
            "3114/3125 [============================>.] - ETA: 0s - loss: 3.8377 - accuracy: 0.1010 - top-5-accuracy: 0.3197"
          ],
          "name": "stdout"
        }
      ]
    },
    {
      "cell_type": "code",
      "metadata": {
        "id": "f5Sy-PawWoo7"
      },
      "source": [
        ""
      ],
      "execution_count": null,
      "outputs": []
    }
  ]
}